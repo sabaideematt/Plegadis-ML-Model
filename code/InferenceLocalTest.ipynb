{
 "cells": [
  {
   "cell_type": "code",
   "execution_count": 6,
   "id": "e328cee4",
   "metadata": {},
   "outputs": [
    {
     "name": "stdout",
     "output_type": "stream",
     "text": [
      "Predicted class: 1\n"
     ]
    }
   ],
   "source": [
    "import torch\n",
    "import torch.nn as nn\n",
    "from torchvision import transforms\n",
    "from PIL import Image\n",
    "import io\n",
    "\n",
    "# Define the same model architecture used during training\n",
    "class SimpleModel(nn.Module):\n",
    "    def __init__(self):\n",
    "        super(SimpleModel, self).__init__()\n",
    "        self.weight = nn.Parameter(torch.Tensor(2, 224 * 224 * 3))\n",
    "        self.bias = nn.Parameter(torch.Tensor(2))\n",
    "    \n",
    "    def forward(self, x):\n",
    "        return torch.addmm(self.bias, x, self.weight.t())\n",
    "\n",
    "# Function to load the trained model\n",
    "def model_fn(model_dir):\n",
    "    # Load the trained model (same as the one used during training)\n",
    "    model = SimpleModel()\n",
    "    model.load_state_dict(torch.load(f'{model_dir}/model.pth', map_location=torch.device('cpu')))\n",
    "    model.eval()\n",
    "    return model\n",
    "\n",
    "# Function to preprocess the input image\n",
    "def input_fn(request_body, content_type='image/jpeg'):\n",
    "    if content_type == 'image/jpeg':\n",
    "        img = Image.open(io.BytesIO(request_body))\n",
    "        preprocess = transforms.Compose([\n",
    "            transforms.Resize((224, 224)),\n",
    "            transforms.ToTensor(),\n",
    "            transforms.Normalize([0.485, 0.456, 0.406], [0.229, 0.224, 0.225])\n",
    "        ])\n",
    "        img_t = preprocess(img)\n",
    "        img_t = img_t.view(-1, 224 * 224 * 3)  # Flatten the image to match the linear layer input size\n",
    "        return img_t\n",
    "    else:\n",
    "        raise ValueError(f'Unsupported content type: {content_type}')\n",
    "\n",
    "# Function to perform inference\n",
    "def predict_fn(input_data, model):\n",
    "    with torch.no_grad():\n",
    "        output = model(input_data)\n",
    "        _, predicted_class = torch.max(output, 1)\n",
    "    return predicted_class.item()\n",
    "\n",
    "# Function to handle the prediction request locally\n",
    "def predict_local(image_path, model_dir):\n",
    "    # Load the model\n",
    "    model = model_fn(model_dir)\n",
    "\n",
    "    # Read the image and convert it to bytes\n",
    "    with open(image_path, 'rb') as f:\n",
    "        img_bytes = f.read()\n",
    "\n",
    "    # Preprocess the image\n",
    "    input_data = input_fn(img_bytes)\n",
    "\n",
    "    # Make a prediction\n",
    "    result = predict_fn(input_data, model)\n",
    "\n",
    "    print(f\"Predicted class: {result}\")\n",
    "    return result\n",
    "\n",
    "if __name__ == \"__main__\":\n",
    "    # Test the local prediction\n",
    "    image_path = '/home/ec2-user/SageMaker/2023_0512_121225_001.JPG'  # Update with the path to your local image\n",
    "    model_dir = '/home/ec2-user/SageMaker'  # Update with the path where the model is saved\n",
    "    predict_local(image_path, model_dir)\n"
   ]
  },
  {
   "cell_type": "code",
   "execution_count": null,
   "id": "d39ce0e0",
   "metadata": {},
   "outputs": [],
   "source": []
  }
 ],
 "metadata": {
  "kernelspec": {
   "display_name": "conda_pytorch_p310",
   "language": "python",
   "name": "conda_pytorch_p310"
  },
  "language_info": {
   "codemirror_mode": {
    "name": "ipython",
    "version": 3
   },
   "file_extension": ".py",
   "mimetype": "text/x-python",
   "name": "python",
   "nbconvert_exporter": "python",
   "pygments_lexer": "ipython3",
   "version": "3.10.14"
  }
 },
 "nbformat": 4,
 "nbformat_minor": 5
}
